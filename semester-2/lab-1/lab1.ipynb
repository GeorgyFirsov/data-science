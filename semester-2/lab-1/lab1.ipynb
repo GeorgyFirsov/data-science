{
 "cells": [
  {
   "cell_type": "markdown",
   "metadata": {},
   "source": [
    "# Лабораторная работа № 1\n",
    "### Минимальная оценка - 3 балла\n",
    "### Максимальная оценка - 5 балла\n",
    "Целью данной работы является изучение метода градиентного спуска для минимизации эмпирического риска функции потерь линейной регресии.\n",
    "Для успешной сдачи лабораторной работы Вам необходимо предоставить заполненый исходный ноутбук."
   ]
  },
  {
   "cell_type": "code",
   "execution_count": 1,
   "metadata": {},
   "outputs": [],
   "source": [
    "import numpy as np\n",
    "from numpy.testing import assert_array_almost_equal"
   ]
  },
  {
   "cell_type": "markdown",
   "metadata": {},
   "source": [
    "## Описание датасета"
   ]
  },
  {
   "cell_type": "markdown",
   "metadata": {},
   "source": [
    "### Вариант 1:\n",
    "Известно,что с увеличением высоты над уровнем моря температура кипения воды понижается/\n",
    "<br>Файл X: массив данных, содержащий информацию об атмосферном давлении.\n",
    "<br>Файл Y: массив данных, содержащий информацию о температуре кипения воды при соответствующем значении атомсферном давлении.\n",
    "\n",
    "### Вариант 2:\n",
    "Каждый пользователь Почты имеет так называемую карму. Карма - это число от 0 до 1000, которое характеризует, насколько пользователь похож на спамера. Чем число больше, тем лучше - это означает, что пользователь не рассылает спам. Чем число меньше, тем хуже - пользователь был замечен в рассылке нежелательного контента.\n",
    "<br>Файл X_karma_features: массив данных, содержащий информацию о карме пользователя.\n",
    "<br>Файл Y_bantime_target: массив данных, содержащий соответствующее время жизни ящика, измеренное в часах.\n",
    "\n",
    "P.S.: Напоминаю, что вариант считается по формуле $(N\\%2)+1$, где $N$ Ваш номер в списке группы"
   ]
  },
  {
   "cell_type": "code",
   "execution_count": 2,
   "metadata": {},
   "outputs": [
    {
     "data": {
      "text/plain": [
       "1"
      ]
     },
     "execution_count": 2,
     "metadata": {},
     "output_type": "execute_result"
    }
   ],
   "source": [
    "N = 10\n",
    "V = (N % 2) + 1\n",
    "V"
   ]
  },
  {
   "cell_type": "code",
   "execution_count": 3,
   "metadata": {},
   "outputs": [
    {
     "data": {
      "text/plain": [
       "((125, 1),\n",
       " array([[-305.],\n",
       "        [-229.],\n",
       "        [-152.],\n",
       "        [ -76.],\n",
       "        [   0.],\n",
       "        [  76.],\n",
       "        [ 152.],\n",
       "        [ 229.],\n",
       "        [ 305.],\n",
       "        [ 381.],\n",
       "        [ 457.],\n",
       "        [ 533.],\n",
       "        [ 610.],\n",
       "        [ 686.],\n",
       "        [ 762.],\n",
       "        [ 838.],\n",
       "        [ 914.],\n",
       "        [ 991.],\n",
       "        [1067.],\n",
       "        [1143.],\n",
       "        [1219.],\n",
       "        [1295.],\n",
       "        [1372.],\n",
       "        [1448.],\n",
       "        [1524.],\n",
       "        [1600.],\n",
       "        [1676.],\n",
       "        [1753.],\n",
       "        [1829.],\n",
       "        [1905.],\n",
       "        [1981.],\n",
       "        [2057.],\n",
       "        [2134.],\n",
       "        [2210.],\n",
       "        [2286.],\n",
       "        [2362.],\n",
       "        [2438.],\n",
       "        [2515.],\n",
       "        [2591.],\n",
       "        [2667.],\n",
       "        [2743.],\n",
       "        [2819.],\n",
       "        [2896.],\n",
       "        [2972.],\n",
       "        [3048.],\n",
       "        [3124.],\n",
       "        [3200.],\n",
       "        [3277.],\n",
       "        [3353.],\n",
       "        [3429.],\n",
       "        [3505.],\n",
       "        [3581.],\n",
       "        [3658.],\n",
       "        [3734.],\n",
       "        [3810.],\n",
       "        [3886.],\n",
       "        [3962.],\n",
       "        [4037.],\n",
       "        [4115.],\n",
       "        [4191.],\n",
       "        [4267.],\n",
       "        [4343.],\n",
       "        [4420.],\n",
       "        [4496.],\n",
       "        [4572.],\n",
       "        [4648.],\n",
       "        [4724.],\n",
       "        [4801.],\n",
       "        [4877.],\n",
       "        [4953.],\n",
       "        [5029.],\n",
       "        [5105.],\n",
       "        [5182.],\n",
       "        [5258.],\n",
       "        [5334.],\n",
       "        [5410.],\n",
       "        [5486.],\n",
       "        [5563.],\n",
       "        [5639.],\n",
       "        [5715.],\n",
       "        [5791.],\n",
       "        [5867.],\n",
       "        [5944.],\n",
       "        [6020.],\n",
       "        [6096.],\n",
       "        [6172.],\n",
       "        [6248.],\n",
       "        [6325.],\n",
       "        [6401.],\n",
       "        [6477.],\n",
       "        [6553.],\n",
       "        [6629.],\n",
       "        [6706.],\n",
       "        [6782.],\n",
       "        [6858.],\n",
       "        [6934.],\n",
       "        [7010.],\n",
       "        [7087.],\n",
       "        [7163.],\n",
       "        [7239.],\n",
       "        [7315.],\n",
       "        [7391.],\n",
       "        [7468.],\n",
       "        [7544.],\n",
       "        [7620.],\n",
       "        [7696.],\n",
       "        [7772.],\n",
       "        [7849.],\n",
       "        [7925.],\n",
       "        [8001.],\n",
       "        [8077.],\n",
       "        [8153.],\n",
       "        [8230.],\n",
       "        [8306.],\n",
       "        [8382.],\n",
       "        [8458.],\n",
       "        [8534.],\n",
       "        [8611.],\n",
       "        [8687.],\n",
       "        [8763.],\n",
       "        [8839.],\n",
       "        [8916.],\n",
       "        [8992.],\n",
       "        [9068.],\n",
       "        [9144.]]))"
      ]
     },
     "execution_count": 3,
     "metadata": {},
     "output_type": "execute_result"
    }
   ],
   "source": [
    "X = np.load('X').reshape((-1, 1))\n",
    "X.shape, X"
   ]
  },
  {
   "cell_type": "code",
   "execution_count": 4,
   "metadata": {},
   "outputs": [
    {
     "data": {
      "text/plain": [
       "(array([[-3.050e+02,  1.000e+00],\n",
       "        [-2.290e+02,  1.000e+00],\n",
       "        [-1.520e+02,  1.000e+00],\n",
       "        [-7.600e+01,  1.000e+00],\n",
       "        [ 0.000e+00,  1.000e+00],\n",
       "        [ 7.600e+01,  1.000e+00],\n",
       "        [ 1.520e+02,  1.000e+00],\n",
       "        [ 2.290e+02,  1.000e+00],\n",
       "        [ 3.050e+02,  1.000e+00],\n",
       "        [ 3.810e+02,  1.000e+00],\n",
       "        [ 4.570e+02,  1.000e+00],\n",
       "        [ 5.330e+02,  1.000e+00],\n",
       "        [ 6.100e+02,  1.000e+00],\n",
       "        [ 6.860e+02,  1.000e+00],\n",
       "        [ 7.620e+02,  1.000e+00],\n",
       "        [ 8.380e+02,  1.000e+00],\n",
       "        [ 9.140e+02,  1.000e+00],\n",
       "        [ 9.910e+02,  1.000e+00],\n",
       "        [ 1.067e+03,  1.000e+00],\n",
       "        [ 1.143e+03,  1.000e+00],\n",
       "        [ 1.219e+03,  1.000e+00],\n",
       "        [ 1.295e+03,  1.000e+00],\n",
       "        [ 1.372e+03,  1.000e+00],\n",
       "        [ 1.448e+03,  1.000e+00],\n",
       "        [ 1.524e+03,  1.000e+00],\n",
       "        [ 1.600e+03,  1.000e+00],\n",
       "        [ 1.676e+03,  1.000e+00],\n",
       "        [ 1.753e+03,  1.000e+00],\n",
       "        [ 1.829e+03,  1.000e+00],\n",
       "        [ 1.905e+03,  1.000e+00],\n",
       "        [ 1.981e+03,  1.000e+00],\n",
       "        [ 2.057e+03,  1.000e+00],\n",
       "        [ 2.134e+03,  1.000e+00],\n",
       "        [ 2.210e+03,  1.000e+00],\n",
       "        [ 2.286e+03,  1.000e+00],\n",
       "        [ 2.362e+03,  1.000e+00],\n",
       "        [ 2.438e+03,  1.000e+00],\n",
       "        [ 2.515e+03,  1.000e+00],\n",
       "        [ 2.591e+03,  1.000e+00],\n",
       "        [ 2.667e+03,  1.000e+00],\n",
       "        [ 2.743e+03,  1.000e+00],\n",
       "        [ 2.819e+03,  1.000e+00],\n",
       "        [ 2.896e+03,  1.000e+00],\n",
       "        [ 2.972e+03,  1.000e+00],\n",
       "        [ 3.048e+03,  1.000e+00],\n",
       "        [ 3.124e+03,  1.000e+00],\n",
       "        [ 3.200e+03,  1.000e+00],\n",
       "        [ 3.277e+03,  1.000e+00],\n",
       "        [ 3.353e+03,  1.000e+00],\n",
       "        [ 3.429e+03,  1.000e+00],\n",
       "        [ 3.505e+03,  1.000e+00],\n",
       "        [ 3.581e+03,  1.000e+00],\n",
       "        [ 3.658e+03,  1.000e+00],\n",
       "        [ 3.734e+03,  1.000e+00],\n",
       "        [ 3.810e+03,  1.000e+00],\n",
       "        [ 3.886e+03,  1.000e+00],\n",
       "        [ 3.962e+03,  1.000e+00],\n",
       "        [ 4.037e+03,  1.000e+00],\n",
       "        [ 4.115e+03,  1.000e+00],\n",
       "        [ 4.191e+03,  1.000e+00],\n",
       "        [ 4.267e+03,  1.000e+00],\n",
       "        [ 4.343e+03,  1.000e+00],\n",
       "        [ 4.420e+03,  1.000e+00],\n",
       "        [ 4.496e+03,  1.000e+00],\n",
       "        [ 4.572e+03,  1.000e+00],\n",
       "        [ 4.648e+03,  1.000e+00],\n",
       "        [ 4.724e+03,  1.000e+00],\n",
       "        [ 4.801e+03,  1.000e+00],\n",
       "        [ 4.877e+03,  1.000e+00],\n",
       "        [ 4.953e+03,  1.000e+00],\n",
       "        [ 5.029e+03,  1.000e+00],\n",
       "        [ 5.105e+03,  1.000e+00],\n",
       "        [ 5.182e+03,  1.000e+00],\n",
       "        [ 5.258e+03,  1.000e+00],\n",
       "        [ 5.334e+03,  1.000e+00],\n",
       "        [ 5.410e+03,  1.000e+00],\n",
       "        [ 5.486e+03,  1.000e+00],\n",
       "        [ 5.563e+03,  1.000e+00],\n",
       "        [ 5.639e+03,  1.000e+00],\n",
       "        [ 5.715e+03,  1.000e+00],\n",
       "        [ 5.791e+03,  1.000e+00],\n",
       "        [ 5.867e+03,  1.000e+00],\n",
       "        [ 5.944e+03,  1.000e+00],\n",
       "        [ 6.020e+03,  1.000e+00],\n",
       "        [ 6.096e+03,  1.000e+00],\n",
       "        [ 6.172e+03,  1.000e+00],\n",
       "        [ 6.248e+03,  1.000e+00],\n",
       "        [ 6.325e+03,  1.000e+00],\n",
       "        [ 6.401e+03,  1.000e+00],\n",
       "        [ 6.477e+03,  1.000e+00],\n",
       "        [ 6.553e+03,  1.000e+00],\n",
       "        [ 6.629e+03,  1.000e+00],\n",
       "        [ 6.706e+03,  1.000e+00],\n",
       "        [ 6.782e+03,  1.000e+00],\n",
       "        [ 6.858e+03,  1.000e+00],\n",
       "        [ 6.934e+03,  1.000e+00],\n",
       "        [ 7.010e+03,  1.000e+00],\n",
       "        [ 7.087e+03,  1.000e+00],\n",
       "        [ 7.163e+03,  1.000e+00],\n",
       "        [ 7.239e+03,  1.000e+00],\n",
       "        [ 7.315e+03,  1.000e+00],\n",
       "        [ 7.391e+03,  1.000e+00],\n",
       "        [ 7.468e+03,  1.000e+00],\n",
       "        [ 7.544e+03,  1.000e+00],\n",
       "        [ 7.620e+03,  1.000e+00],\n",
       "        [ 7.696e+03,  1.000e+00],\n",
       "        [ 7.772e+03,  1.000e+00],\n",
       "        [ 7.849e+03,  1.000e+00],\n",
       "        [ 7.925e+03,  1.000e+00],\n",
       "        [ 8.001e+03,  1.000e+00],\n",
       "        [ 8.077e+03,  1.000e+00],\n",
       "        [ 8.153e+03,  1.000e+00],\n",
       "        [ 8.230e+03,  1.000e+00],\n",
       "        [ 8.306e+03,  1.000e+00],\n",
       "        [ 8.382e+03,  1.000e+00],\n",
       "        [ 8.458e+03,  1.000e+00],\n",
       "        [ 8.534e+03,  1.000e+00],\n",
       "        [ 8.611e+03,  1.000e+00],\n",
       "        [ 8.687e+03,  1.000e+00],\n",
       "        [ 8.763e+03,  1.000e+00],\n",
       "        [ 8.839e+03,  1.000e+00],\n",
       "        [ 8.916e+03,  1.000e+00],\n",
       "        [ 8.992e+03,  1.000e+00],\n",
       "        [ 9.068e+03,  1.000e+00],\n",
       "        [ 9.144e+03,  1.000e+00]]),\n",
       " 2)"
      ]
     },
     "execution_count": 4,
     "metadata": {},
     "output_type": "execute_result"
    }
   ],
   "source": [
    "# Вообще в линейной модели есть еще и смещение,\n",
    "# поэтому добавлю столбец единичек справа\n",
    "# Они будут домножаться на смещение как раз\n",
    "X = np.hstack([X, np.ones((X.shape[0], 1))])\n",
    "n_feat = X.shape[1]\n",
    "X, n_feat"
   ]
  },
  {
   "cell_type": "code",
   "execution_count": 5,
   "metadata": {},
   "outputs": [
    {
     "data": {
      "text/plain": [
       "((125, 1),\n",
       " array([[101.1],\n",
       "        [100.8],\n",
       "        [100.5],\n",
       "        [100.3],\n",
       "        [100. ],\n",
       "        [ 99.7],\n",
       "        [ 99.5],\n",
       "        [ 99.2],\n",
       "        [ 98.9],\n",
       "        [ 98.6],\n",
       "        [ 98.4],\n",
       "        [ 98.1],\n",
       "        [ 97.8],\n",
       "        [ 97.6],\n",
       "        [ 97.3],\n",
       "        [ 97.1],\n",
       "        [ 96.8],\n",
       "        [ 96.5],\n",
       "        [ 96.3],\n",
       "        [ 96. ],\n",
       "        [ 95.7],\n",
       "        [ 95.5],\n",
       "        [ 95.2],\n",
       "        [ 94.9],\n",
       "        [ 94.7],\n",
       "        [ 94.4],\n",
       "        [ 94.2],\n",
       "        [ 93.9],\n",
       "        [ 93.6],\n",
       "        [ 93.4],\n",
       "        [ 93.1],\n",
       "        [ 92.9],\n",
       "        [ 92.6],\n",
       "        [ 92.4],\n",
       "        [ 92.1],\n",
       "        [ 91.8],\n",
       "        [ 91.6],\n",
       "        [ 91.3],\n",
       "        [ 91.1],\n",
       "        [ 90.8],\n",
       "        [ 90.6],\n",
       "        [ 90.3],\n",
       "        [ 90.1],\n",
       "        [ 89.8],\n",
       "        [ 89.6],\n",
       "        [ 89.3],\n",
       "        [ 89.1],\n",
       "        [ 88.8],\n",
       "        [ 88.6],\n",
       "        [ 88.3],\n",
       "        [ 88.1],\n",
       "        [ 87.8],\n",
       "        [ 87.6],\n",
       "        [ 87.3],\n",
       "        [ 87.1],\n",
       "        [ 86.8],\n",
       "        [ 86.6],\n",
       "        [ 86.4],\n",
       "        [ 86.1],\n",
       "        [ 85.9],\n",
       "        [ 85.6],\n",
       "        [ 85.4],\n",
       "        [ 85.1],\n",
       "        [ 84.9],\n",
       "        [ 84.7],\n",
       "        [ 84.4],\n",
       "        [ 84.2],\n",
       "        [ 83.9],\n",
       "        [ 83.7],\n",
       "        [ 83.5],\n",
       "        [ 83.2],\n",
       "        [ 83. ],\n",
       "        [ 82.7],\n",
       "        [ 82.5],\n",
       "        [ 82.3],\n",
       "        [ 82. ],\n",
       "        [ 81.8],\n",
       "        [ 81.6],\n",
       "        [ 81.3],\n",
       "        [ 81.1],\n",
       "        [ 80.9],\n",
       "        [ 80.6],\n",
       "        [ 80.4],\n",
       "        [ 80.2],\n",
       "        [ 79.9],\n",
       "        [ 79.7],\n",
       "        [ 79.5],\n",
       "        [ 79.3],\n",
       "        [ 79. ],\n",
       "        [ 78.8],\n",
       "        [ 78.6],\n",
       "        [ 78.3],\n",
       "        [ 78.1],\n",
       "        [ 77.9],\n",
       "        [ 77.7],\n",
       "        [ 77.4],\n",
       "        [ 77.2],\n",
       "        [ 77. ],\n",
       "        [ 76.8],\n",
       "        [ 76.5],\n",
       "        [ 76.3],\n",
       "        [ 76.1],\n",
       "        [ 75.9],\n",
       "        [ 75.6],\n",
       "        [ 75.4],\n",
       "        [ 75.2],\n",
       "        [ 75. ],\n",
       "        [ 74.8],\n",
       "        [ 74.5],\n",
       "        [ 74.3],\n",
       "        [ 74.1],\n",
       "        [ 73.9],\n",
       "        [ 73.7],\n",
       "        [ 73.5],\n",
       "        [ 73.2],\n",
       "        [ 73. ],\n",
       "        [ 72.8],\n",
       "        [ 72.6],\n",
       "        [ 72.4],\n",
       "        [ 72.2],\n",
       "        [ 72. ],\n",
       "        [ 71.7],\n",
       "        [ 71.5],\n",
       "        [ 71.3],\n",
       "        [ 71.1]]))"
      ]
     },
     "execution_count": 5,
     "metadata": {},
     "output_type": "execute_result"
    }
   ],
   "source": [
    "y = np.load('Y').reshape((-1, 1))\n",
    "y.shape, y"
   ]
  },
  {
   "cell_type": "markdown",
   "metadata": {},
   "source": [
    "## Задание 1 (3 балла)\n",
    "#### Реализовать модель линейной регрессии и минимизировать её эмпирический риск\n",
    "Модель линейной регрессии задаётся формулой: $$\\vec{y}=X\\vec{w}+\\mathbb{C}$$\n",
    "где $\\vec{y}$ - вектор целевой переменной, $X$ - матрица признаков, $\\vec{w}$ - вектор весов, $\\mathbb{C}$ - ошибка модели.\n",
    "<br>По сути линейная регрессия просто складывает все признаки с определённым весом.\n",
    "(Более подробно про линейную регрессию можно почитать [тут](http://www.machinelearning.ru/wiki/index.php?title=Линейная_регрессия))"
   ]
  },
  {
   "cell_type": "markdown",
   "metadata": {},
   "source": [
    "## Задание 1.1\n",
    "Реализуйте функцию подсчёта эмпирического риска, представленного формулой:\n",
    "$$\\frac{\\sum_{i=0}^{n}(\\tilde{x_i}-x_i)^{2}}{n}$$\n",
    "на вход которой подаются массивы с реальными и предсказанными значениями."
   ]
  },
  {
   "cell_type": "code",
   "execution_count": 6,
   "metadata": {},
   "outputs": [],
   "source": [
    "def my_loss_function(predicted_values: np.ndarray, true_values: np.ndarray):\n",
    "    assert predicted_values.size == true_values.size\n",
    "    \n",
    "    #\n",
    "    # Тут все прямо по формулке -- сумма квадратов разностей\n",
    "    #\n",
    "    \n",
    "    n = predicted_values.size\n",
    "    return np.sum((predicted_values - true_values) ** 2) / n"
   ]
  },
  {
   "cell_type": "markdown",
   "metadata": {},
   "source": [
    "Проверьте вашу функцию, используя следующий код (он должен выполняться без ошибок):"
   ]
  },
  {
   "cell_type": "code",
   "execution_count": 7,
   "metadata": {},
   "outputs": [],
   "source": [
    "assert_array_almost_equal(my_loss_function(np.array([1,0,1,0]),\n",
    "                                           np.array([0,1,1,0])),\n",
    "                          0.5)"
   ]
  },
  {
   "cell_type": "markdown",
   "metadata": {},
   "source": [
    "## Задание 1.2\n",
    "Реализуйте (на свой выбор) функцию инициализации весов (см. лекции) и выведите результат для $length=N$"
   ]
  },
  {
   "cell_type": "code",
   "execution_count": 8,
   "metadata": {},
   "outputs": [],
   "source": [
    "from scipy.stats import uniform"
   ]
  },
  {
   "cell_type": "code",
   "execution_count": 9,
   "metadata": {},
   "outputs": [],
   "source": [
    "def initial_weights(length):\n",
    "    #\n",
    "    # По лекциям только инициализация Ксавье была. Посмотрим на модель как на\n",
    "    # сеть с 1 входом и одним выходом, тогда с учетом вида распределения\n",
    "    # для линейной функции активации получится такое распределение U[-sqrt(3), sqrt(3)]\n",
    "    #\n",
    "    \n",
    "    r = np.sqrt(3)  # sqrt(6 / (n_in + n_out)), n_in = n_out = 1\n",
    "    return uniform.rvs(size=length, loc=-r, scale=2*r).reshape((length,1))"
   ]
  },
  {
   "cell_type": "code",
   "execution_count": 10,
   "metadata": {},
   "outputs": [
    {
     "data": {
      "text/plain": [
       "array([[-0.23982613],\n",
       "       [ 0.34642631],\n",
       "       [-1.62715249],\n",
       "       [-0.76535407],\n",
       "       [ 1.23108138],\n",
       "       [ 0.71611094],\n",
       "       [-0.08464574],\n",
       "       [-0.21204095],\n",
       "       [ 1.38971846],\n",
       "       [ 0.31369682]])"
      ]
     },
     "execution_count": 10,
     "metadata": {},
     "output_type": "execute_result"
    }
   ],
   "source": [
    "initial_weights(N)"
   ]
  },
  {
   "cell_type": "markdown",
   "metadata": {},
   "source": [
    "## Задание 1.3\n",
    "Реализуйте свою модель линейной регрессии, на вход которой подаётся матрица объект-признак (файл X/X_karma_features) и вектор весов.\n",
    "<br>На выходе возвращается предсказанная целевая переменная (см. формулу в задании 1)"
   ]
  },
  {
   "cell_type": "code",
   "execution_count": 13,
   "metadata": {},
   "outputs": [],
   "source": [
    "def my_model(features, weights):\n",
    "    print(features.shape, weights.shape)\n",
    "    return features.dot(weights)"
   ]
  },
  {
   "cell_type": "code",
   "execution_count": 14,
   "metadata": {},
   "outputs": [
    {
     "name": "stdout",
     "output_type": "stream",
     "text": [
      "(125, 2) (2, 1)\n"
     ]
    },
    {
     "data": {
      "text/plain": [
       "array([[ 2.21302718e+02],\n",
       "       [ 1.66417794e+02],\n",
       "       [ 1.10810699e+02],\n",
       "       [ 5.59257753e+01],\n",
       "       [ 1.04085106e+00],\n",
       "       [-5.38440732e+01],\n",
       "       [-1.08728997e+02],\n",
       "       [-1.64336092e+02],\n",
       "       [-2.19221016e+02],\n",
       "       [-2.74105940e+02],\n",
       "       [-3.28990864e+02],\n",
       "       [-3.83875788e+02],\n",
       "       [-4.39482883e+02],\n",
       "       [-4.94367807e+02],\n",
       "       [-5.49252731e+02],\n",
       "       [-6.04137655e+02],\n",
       "       [-6.59022580e+02],\n",
       "       [-7.14629674e+02],\n",
       "       [-7.69514598e+02],\n",
       "       [-8.24399522e+02],\n",
       "       [-8.79284446e+02],\n",
       "       [-9.34169371e+02],\n",
       "       [-9.89776465e+02],\n",
       "       [-1.04466139e+03],\n",
       "       [-1.09954631e+03],\n",
       "       [-1.15443124e+03],\n",
       "       [-1.20931616e+03],\n",
       "       [-1.26492326e+03],\n",
       "       [-1.31980818e+03],\n",
       "       [-1.37469310e+03],\n",
       "       [-1.42957803e+03],\n",
       "       [-1.48446295e+03],\n",
       "       [-1.54007005e+03],\n",
       "       [-1.59495497e+03],\n",
       "       [-1.64983990e+03],\n",
       "       [-1.70472482e+03],\n",
       "       [-1.75960974e+03],\n",
       "       [-1.81521684e+03],\n",
       "       [-1.87010176e+03],\n",
       "       [-1.92498669e+03],\n",
       "       [-1.97987161e+03],\n",
       "       [-2.03475654e+03],\n",
       "       [-2.09036363e+03],\n",
       "       [-2.14524855e+03],\n",
       "       [-2.20013348e+03],\n",
       "       [-2.25501840e+03],\n",
       "       [-2.30990333e+03],\n",
       "       [-2.36551042e+03],\n",
       "       [-2.42039534e+03],\n",
       "       [-2.47528027e+03],\n",
       "       [-2.53016519e+03],\n",
       "       [-2.58505012e+03],\n",
       "       [-2.64065721e+03],\n",
       "       [-2.69554214e+03],\n",
       "       [-2.75042706e+03],\n",
       "       [-2.80531198e+03],\n",
       "       [-2.86019691e+03],\n",
       "       [-2.91435966e+03],\n",
       "       [-2.97068893e+03],\n",
       "       [-3.02557385e+03],\n",
       "       [-3.08045878e+03],\n",
       "       [-3.13534370e+03],\n",
       "       [-3.19095079e+03],\n",
       "       [-3.24583572e+03],\n",
       "       [-3.30072064e+03],\n",
       "       [-3.35560557e+03],\n",
       "       [-3.41049049e+03],\n",
       "       [-3.46609758e+03],\n",
       "       [-3.52098251e+03],\n",
       "       [-3.57586743e+03],\n",
       "       [-3.63075236e+03],\n",
       "       [-3.68563728e+03],\n",
       "       [-3.74124438e+03],\n",
       "       [-3.79612930e+03],\n",
       "       [-3.85101422e+03],\n",
       "       [-3.90589915e+03],\n",
       "       [-3.96078407e+03],\n",
       "       [-4.01639117e+03],\n",
       "       [-4.07127609e+03],\n",
       "       [-4.12616102e+03],\n",
       "       [-4.18104594e+03],\n",
       "       [-4.23593086e+03],\n",
       "       [-4.29153796e+03],\n",
       "       [-4.34642288e+03],\n",
       "       [-4.40130781e+03],\n",
       "       [-4.45619273e+03],\n",
       "       [-4.51107766e+03],\n",
       "       [-4.56668475e+03],\n",
       "       [-4.62156967e+03],\n",
       "       [-4.67645460e+03],\n",
       "       [-4.73133952e+03],\n",
       "       [-4.78622445e+03],\n",
       "       [-4.84183154e+03],\n",
       "       [-4.89671646e+03],\n",
       "       [-4.95160139e+03],\n",
       "       [-5.00648631e+03],\n",
       "       [-5.06137124e+03],\n",
       "       [-5.11697833e+03],\n",
       "       [-5.17186326e+03],\n",
       "       [-5.22674818e+03],\n",
       "       [-5.28163310e+03],\n",
       "       [-5.33651803e+03],\n",
       "       [-5.39212512e+03],\n",
       "       [-5.44701005e+03],\n",
       "       [-5.50189497e+03],\n",
       "       [-5.55677990e+03],\n",
       "       [-5.61166482e+03],\n",
       "       [-5.66727191e+03],\n",
       "       [-5.72215684e+03],\n",
       "       [-5.77704176e+03],\n",
       "       [-5.83192669e+03],\n",
       "       [-5.88681161e+03],\n",
       "       [-5.94241870e+03],\n",
       "       [-5.99730363e+03],\n",
       "       [-6.05218855e+03],\n",
       "       [-6.10707348e+03],\n",
       "       [-6.16195840e+03],\n",
       "       [-6.21756550e+03],\n",
       "       [-6.27245042e+03],\n",
       "       [-6.32733534e+03],\n",
       "       [-6.38222027e+03],\n",
       "       [-6.43782736e+03],\n",
       "       [-6.49271229e+03],\n",
       "       [-6.54759721e+03],\n",
       "       [-6.60248214e+03]])"
      ]
     },
     "execution_count": 14,
     "metadata": {},
     "output_type": "execute_result"
    }
   ],
   "source": [
    "my_model(X, initial_weights(2))"
   ]
  },
  {
   "cell_type": "markdown",
   "metadata": {},
   "source": [
    "## Задание 1.4\n",
    "Реализуйте метод градиентного спуска. Для этого:\n",
    "1. Реализуйте функцию вычисляющую градиент в точке (для функции подсчёта эмпирического риска)\n",
    "2. Реализуйте функцию обновляющую веса линейно регрессии в соответствии с направлением градиента (см. лекции)\n",
    "3. Объедините полученные функции в одну\n",
    "4. Для упрощения, обновите веса $iter\\_num$ раз ($iter\\_num=N*(k\\%50)$, где $N$ - ваш номер в списке группы, $k$ - номер вашей группы)."
   ]
  },
  {
   "cell_type": "markdown",
   "metadata": {},
   "source": [
    "Сам градиентный спуск:\n",
    "$$\n",
    "w_{t+1} = w_{t} - l \\cdot \\nabla L(X, w)\n",
    "$$"
   ]
  },
  {
   "cell_type": "code",
   "execution_count": 12,
   "metadata": {},
   "outputs": [],
   "source": [
    "def grad_of_my_loss_func(X, y, weights):\n",
    "    n = X.shape[0]\n",
    "    return 2 * X.T.dot(my_model(X, weights) - y) / n"
   ]
  },
  {
   "cell_type": "code",
   "execution_count": 13,
   "metadata": {},
   "outputs": [],
   "source": [
    "def update_weigths(grad, weights, learning_rate):\n",
    "    return weights - learning_rate * grad"
   ]
  },
  {
   "cell_type": "code",
   "execution_count": 14,
   "metadata": {},
   "outputs": [],
   "source": [
    "def grad_descent(X, y, initial_weights, iter_num, learning_rate=0.1):\n",
    "    weights = initial_weights\n",
    "    \n",
    "    history = []\n",
    "    for _ in range(iter_num):\n",
    "        history.append(weights)\n",
    "        weights = update_weigths(grad_of_my_loss_func(X, y, weights), \n",
    "                                 weights, \n",
    "                                 learning_rate)\n",
    "    \n",
    "    return weights, history"
   ]
  },
  {
   "cell_type": "markdown",
   "metadata": {},
   "source": [
    "## Задание 1.5\n",
    "1. Разделите свою выборку на обучающую и тестовую\n",
    "2. Сгенерируйте веса\n",
    "2. Используя свой метод градиентного спуска и свою модель линейной регрессии, подберите оптимальные веса для обучающей выборки\n",
    "3. Используя полученные на шаге 3 веса сделайте предсказание для тестовой выборки\n",
    "4. Выведите значение функции потерь при изначально сгенерированных весах и при весах, полученных в результате градиентного спуска"
   ]
  },
  {
   "cell_type": "code",
   "execution_count": 24,
   "metadata": {},
   "outputs": [],
   "source": [
    "iter_num = (N * (507 % 50))"
   ]
  },
  {
   "cell_type": "code",
   "execution_count": 25,
   "metadata": {},
   "outputs": [],
   "source": [
    "from sklearn.model_selection import train_test_split"
   ]
  },
  {
   "cell_type": "code",
   "execution_count": 26,
   "metadata": {},
   "outputs": [],
   "source": [
    "X_train, X_test, y_train, y_test = train_test_split(X, y, test_size=.3)"
   ]
  },
  {
   "cell_type": "code",
   "execution_count": 18,
   "metadata": {},
   "outputs": [],
   "source": [
    "learning_rate = 1e-8"
   ]
  },
  {
   "cell_type": "markdown",
   "metadata": {},
   "source": [
    "### Попытка неудачная"
   ]
  },
  {
   "cell_type": "code",
   "execution_count": 19,
   "metadata": {},
   "outputs": [
    {
     "data": {
      "text/plain": [
       "array([[-0.12707283],\n",
       "       [-0.21674199]])"
      ]
     },
     "execution_count": 19,
     "metadata": {},
     "output_type": "execute_result"
    }
   ],
   "source": [
    "weights = initial_weights(n_feat)\n",
    "weights"
   ]
  },
  {
   "cell_type": "code",
   "execution_count": 20,
   "metadata": {},
   "outputs": [
    {
     "data": {
      "text/plain": [
       "array([[ 0.0133322 ],\n",
       "       [-0.21667878]])"
      ]
     },
     "execution_count": 20,
     "metadata": {},
     "output_type": "execute_result"
    }
   ],
   "source": [
    "weights, history = grad_descent(X_train, y_train, weights, iter_num, learning_rate)\n",
    "weights"
   ]
  },
  {
   "cell_type": "markdown",
   "metadata": {},
   "source": [
    "## Задание 1.6\n",
    "Графически сравните предсказание модели с тестовой выборкой. И сделайте вывод об качестве модели.\n",
    "\n",
    "P.S.: если графики расходятся, то к исходной выборке добавьте столбец из единичек и повторите все последующие действия"
   ]
  },
  {
   "cell_type": "code",
   "execution_count": 11,
   "metadata": {},
   "outputs": [],
   "source": [
    "%matplotlib inline\n",
    "import matplotlib.pyplot as plt"
   ]
  },
  {
   "cell_type": "code",
   "execution_count": 22,
   "metadata": {},
   "outputs": [
    {
     "data": {
      "image/png": "[encoded data removed]",
      "text/plain": [
       "<Figure size 640x480 with 1 Axes>"
      ]
     },
     "metadata": {},
     "output_type": "display_data"
    }
   ],
   "source": [
    "plt.scatter(X_test[:, 0], y_test)\n",
    "plt.plot(X_test[:, 0], my_model(X_test, weights))\n",
    "\n",
    "for i in range(0, len(history), 3):\n",
    "    plt.plot(X_test[:, 0], my_model(X_test, history[i]))\n",
    "    \n",
    "plt.grid()"
   ]
  },
  {
   "cell_type": "markdown",
   "metadata": {},
   "source": [
    "Тут как получается, мы не доходим до минимума, так как попадаем на плато и еле тащимся по нему в сторону минимума. \n",
    "\n",
    "Собственно это можно наблюдать на первом рисунке ниже. Лосс у нас представляет из себя так вообще параболический цилиндр (даже не параболоид). Это можно заметить, если понять, что наш лосс выражается как $(w[0] \\cdot k_0 + w[1] \\cdot k_1) ^ 2$ для каких-то $k_0, k_1$ ($k_0 \\ne 0$). Минимум достигается на линии $w[0] = -\\frac{w[1] \\cdot k_1}{k_0}$.\n",
    "\n",
    "Оказавшись около дна цилиндра, продвижение там будет очень медленным. Это усугубляется еще и тем, что цилиндр на самом деле очень узкий в нашем случае получается.\n",
    "\n",
    "Также если посмотреть на два рисунка еще ниже, будет ясно, что к начальному положению (левый рисунок) ближайшим \"субоптимальным\" является именно то, в которое пришли (правый рисунок), а вот то, истинное оптимальное находится еще очень далеко, и при этом лосс у нас будет уменьшаться очень и очень слабо. "
   ]
  },
  {
   "cell_type": "code",
   "execution_count": 41,
   "metadata": {},
   "outputs": [
    {
     "data": {
      "image/png": "[encoded data removed]",
      "text/plain": [
       "<Figure size 640x480 with 1 Axes>"
      ]
     },
     "metadata": {},
     "output_type": "display_data"
    }
   ],
   "source": [
    "def f(x, y):\n",
    "    result = []\n",
    "    for xr, yr in zip(x, y):\n",
    "        result.append([\n",
    "            my_loss_function(my_model(X_train, np.array([[xv], [yv]])), y_train) \n",
    "            for xv, yv in zip(xr, yr)\n",
    "        ])\n",
    "    return np.array(result)\n",
    "\n",
    "xs = np.linspace(-60, 60, 50)\n",
    "ys = np.linspace(-60, 60, 50)\n",
    "\n",
    "Xs, Ys = np.meshgrid(xs, ys)\n",
    "Zs = f(Xs, Ys)\n",
    "\n",
    "fig = plt.figure()\n",
    "ax = plt.axes(projection='3d')\n",
    "ax.contour3D(Xs, Ys, Zs, 500)\n",
    "ax.set_xlabel('w[0]')\n",
    "ax.set_ylabel('w[1]')\n",
    "ax.set_zlabel('Loss');"
   ]
  },
  {
   "cell_type": "code",
   "execution_count": 23,
   "metadata": {},
   "outputs": [
    {
     "data": {
      "image/png": "[encoded data removed]",
      "text/plain": [
       "<Figure size 1280x480 with 2 Axes>"
      ]
     },
     "metadata": {},
     "output_type": "display_data"
    }
   ],
   "source": [
    "_, ax = plt.subplots(1, 2, figsize=[12.8, 4.8])\n",
    "\n",
    "ax[0].scatter(X_test[:, 0], y_test)\n",
    "ax[0].plot(X_test[:, 0], my_model(X_test, history[0]))\n",
    "ax[0].grid()\n",
    "\n",
    "ax[1].scatter(X_test[:, 0], y_test)\n",
    "ax[1].plot(X_test[:, 0], my_model(X_test, weights))\n",
    "ax[1].grid()"
   ]
  },
  {
   "cell_type": "markdown",
   "metadata": {},
   "source": [
    "### Более удачная попытка\n",
    "Инициализируем веса так, чтобы они были ближе все-таки к минимуму лосса. В частности, зададим смещение равным 100 (на графике с данными можно подглядеть, что оно примерно 100 должно равняться)."
   ]
  },
  {
   "cell_type": "code",
   "execution_count": 24,
   "metadata": {},
   "outputs": [],
   "source": [
    "weights = initial_weights(n_feat)\n",
    "weights[1] = 100"
   ]
  },
  {
   "cell_type": "code",
   "execution_count": 25,
   "metadata": {},
   "outputs": [
    {
     "data": {
      "text/plain": [
       "array([[-3.25967554e-03],\n",
       "       [ 9.99997635e+01]])"
      ]
     },
     "execution_count": 25,
     "metadata": {},
     "output_type": "execute_result"
    }
   ],
   "source": [
    "weights, history = grad_descent(X_train, y_train, weights, iter_num, learning_rate)\n",
    "weights"
   ]
  },
  {
   "cell_type": "code",
   "execution_count": 26,
   "metadata": {},
   "outputs": [
    {
     "data": {
      "image/png": "[encoded data removed]",
      "text/plain": [
       "<Figure size 640x480 with 1 Axes>"
      ]
     },
     "metadata": {},
     "output_type": "display_data"
    }
   ],
   "source": [
    "plt.scatter(X_test[:, 0], y_test)\n",
    "plt.plot(X_test[:, 0], my_model(X_test, weights))\n",
    "plt.grid()"
   ]
  },
  {
   "cell_type": "markdown",
   "metadata": {},
   "source": [
    "Другое дело :)"
   ]
  },
  {
   "cell_type": "markdown",
   "metadata": {},
   "source": [
    "## Задание 2 (2 балла)\n",
    "Реализуйте метод градиентного спуска, в котором остановка осуществляется не при достижении параметра $iter\\_num$, а [другим способом](http://www.machinelearning.ru/wiki/index.php?title=Метод_градиентного_спуска)."
   ]
  },
  {
   "cell_type": "code",
   "execution_count": 27,
   "metadata": {},
   "outputs": [],
   "source": [
    "def grad_descent_advanced(X, y, initial_weights, iter_num, learning_rate=0.1, epsilon=1e-4):\n",
    "    weights = initial_weights\n",
    "    \n",
    "    prev_loss = my_loss_function(my_model(X, weights), y)\n",
    "    weights = update_weigths(grad_of_my_loss_func(X, y, weights), \n",
    "                             weights, \n",
    "                             learning_rate)\n",
    "    \n",
    "    for i in range(iter_num - 1):\n",
    "        loss = my_loss_function(my_model(X, weights), y)\n",
    "        \n",
    "        if np.linalg.norm(loss - prev_loss) < epsilon:\n",
    "            print(f'Early stopping at iter {i + 2}: {prev_loss = }, {loss = }')\n",
    "            break\n",
    "            \n",
    "        weights = update_weigths(grad_of_my_loss_func(X, y, weights), \n",
    "                                 weights, \n",
    "                                 learning_rate)\n",
    "        prev_loss = loss\n",
    "    \n",
    "    return weights"
   ]
  },
  {
   "cell_type": "code",
   "execution_count": 28,
   "metadata": {},
   "outputs": [
    {
     "data": {
      "text/plain": [
       "array([[ -0.70320853],\n",
       "       [100.        ]])"
      ]
     },
     "execution_count": 28,
     "metadata": {},
     "output_type": "execute_result"
    }
   ],
   "source": [
    "weights = initial_weights(n_feat)\n",
    "weights[1] = 100\n",
    "weights"
   ]
  },
  {
   "cell_type": "code",
   "execution_count": 29,
   "metadata": {},
   "outputs": [
    {
     "name": "stdout",
     "output_type": "stream",
     "text": [
      "Early stopping at iter 20: prev_loss = 0.1625892882065176, loss = 0.16255824980990416\n"
     ]
    },
    {
     "data": {
      "text/plain": [
       "array([[-3.26032999e-03],\n",
       "       [ 1.00000116e+02]])"
      ]
     },
     "execution_count": 29,
     "metadata": {},
     "output_type": "execute_result"
    }
   ],
   "source": [
    "weights = grad_descent_advanced(X_train, y_train, weights, iter_num, learning_rate)\n",
    "weights"
   ]
  },
  {
   "cell_type": "code",
   "execution_count": 30,
   "metadata": {},
   "outputs": [
    {
     "data": {
      "image/png": "[encoded data removed]",
      "text/plain": [
       "<Figure size 640x480 with 1 Axes>"
      ]
     },
     "metadata": {},
     "output_type": "display_data"
    }
   ],
   "source": [
    "plt.scatter(X_test[:, 0], y_test)\n",
    "plt.plot(X_test[:, 0], my_model(X_test, weights))\n",
    "plt.grid()"
   ]
  },
  {
   "cell_type": "markdown",
   "metadata": {},
   "source": [
    "Собственно, раньше тоже можно останавливаться. Будет хорошо."
   ]
  },
  {
   "cell_type": "code",
   "execution_count": null,
   "metadata": {},
   "outputs": [],
   "source": []
  }
 ],
 "metadata": {
  "kernelspec": {
   "display_name": "Python 3 (ipykernel)",
   "language": "python",
   "name": "python3"
  },
  "language_info": {
   "codemirror_mode": {
    "name": "ipython",
    "version": 3
   },
   "file_extension": ".py",
   "mimetype": "text/x-python",
   "name": "python",
   "nbconvert_exporter": "python",
   "pygments_lexer": "ipython3",
   "version": "3.10.8"
  }
 },
 "nbformat": 4,
 "nbformat_minor": 2
}
