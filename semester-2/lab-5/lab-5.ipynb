{
 "cells": [
  {
   "cell_type": "markdown",
   "metadata": {},
   "source": [
    "# Лабораторная работа № 5\n",
    "### Минимальная оценка - 3 балла\n",
    "### Максимальная оценка - 5 балла\n",
    "Целью данной работы является изучение метода построения нейронной сети для многоклассовой классификации.\n",
    "Для успешной сдачи лабораторной работы Вам необходимо предоставить заполненый исходный ноутбук."
   ]
  },
  {
   "cell_type": "code",
   "execution_count": 1,
   "metadata": {},
   "outputs": [],
   "source": [
    "import copy\n",
    "import math\n",
    "\n",
    "import numpy as np\n",
    "from matplotlib import pyplot as plt\n",
    "import tqdm\n",
    "from sklearn import datasets\n",
    "from sklearn import preprocessing\n",
    "from sklearn.model_selection import train_test_split\n",
    "from sklearn.metrics import accuracy_score\n",
    "\n",
    "%matplotlib inline"
   ]
  },
  {
   "cell_type": "markdown",
   "metadata": {},
   "source": [
    "# Метод обратного распространения ошибок\n",
    "\n",
    "Метод обратного распространения ошибок - метод вычисления градиента, используемый при обновлении весов \n",
    "многослойного перцептрона. Основная идея этого метода состоит в распространении сигналов ошибки от выходов \n",
    "сети к её входам, в направлении, обратном прямому распространению сигналов в обычном режиме работы.\n",
    "\n",
    "Метод является модификацией стохастического градиентного спуска и состоит из нескольких ступеней. "
   ]
  },
  {
   "cell_type": "markdown",
   "metadata": {},
   "source": [
    "# 1.1 Стохастический градиентный спуск\n",
    "\n",
    "Обновление весов с учетом leraning rate и градиента можно проводить по следующей формуле:\n",
    "$$ \\mathit{weights} =  \\mathit{weights}-\\mathit{learning\\_rate} * \\mathit{gradient}  $$\n",
    "\n",
    "Реализуйте класс для стохастического градиента."
   ]
  },
  {
   "cell_type": "code",
   "execution_count": 2,
   "metadata": {},
   "outputs": [],
   "source": [
    "class SGD:\n",
    "    def __init__(self, lr=0.01):\n",
    "        self.learning_rate = lr \n",
    "\n",
    "    def update(self, w, w_grad):\n",
    "        return w - self.learning_rate * w_grad"
   ]
  },
  {
   "cell_type": "markdown",
   "metadata": {},
   "source": [
    "# 1.2 Функции активации\n",
    "\n",
    "Функция активации определяет выходное значение нейрона в зависимости от результата взвешенной суммы входов\n",
    "и порогового значения. \n",
    "\n",
    "Рассмотрим нейрон:\n",
    "\n",
    "$$ \\mathit{Y} = \\sum(\\mathit{weight}*\\mathit{input}) + \\mathit{bias}$$\n",
    "\n",
    "Теперь значение Y может быть любым в диапазоне от минус бесконечности до бесконечности. В действительности нейрон не знает границу, после которой следует активация.Необходимо решить вопрос как должен нейрон быть активирован. Для этих целей используют активационные функции. Она проверяет произведенное нейроном значение Y на предмет того, должны ли внешние связи рассматривать этот нейрон как активированный, или его можно игнорировать.\n",
    "\n",
    "Вопрос: какими свойствами должна обладать функция активации? (непрерывностью, дифференцируемостью и являться монотонно неубывающей)\n",
    "Вопрос 2: какими свойствами должна обладать производная функции активации? (для простоты вычислений нужно, чтобы производная легко находилась)\n",
    "\n",
    "В данной работе используюется хорошо знакомая по предыдущим работам фанкция активации в виде сигмоиды:\n",
    "$$ \\sigma (x) =  \\frac{\\mathrm{1} }{\\mathrm{1} + e^{- \\theta^Tx} }  $$\n",
    "\n",
    "Производная сигмоиды имеет следующий вид:\n",
    "$$\\sigma (z)' = \\sigma (z) (1 - \\sigma (z))$$\n",
    "\n",
    "Реализуйте класс, вызывающий сигмоиду при прямом прохождении по слоям нейросети и её производную при обратном распространении ошибок.\n",
    "\n",
    "Риторический вопрос 1: что из выше указанного используется при прямом распространении сигналов, а что при обратном распространении ошибок?\n"
   ]
  },
  {
   "cell_type": "code",
   "execution_count": 3,
   "metadata": {},
   "outputs": [],
   "source": [
    "class Sigmoid():\n",
    "    @staticmethod\n",
    "    def evaluate(x):\n",
    "        return 1 / (1 + np.exp(-x))\n",
    "\n",
    "    @staticmethod\n",
    "    def gradient(x):\n",
    "        s = Sigmoid.evaluate(x)\n",
    "        return s * (1 - s)"
   ]
  },
  {
   "cell_type": "markdown",
   "metadata": {},
   "source": [
    "# 1.3 Функция активации Softmax \n",
    "\n",
    "Softmax — это обобщение логистической функции для многомерного случая. Она применяется в машинном обучении для задач классификации, когда количество возможных классов больше двух (для двух классов используется логистическая функция). Координаты полученного вектора при этом трактуются как вероятности того, что объект принадлежит к классу i:\n",
    "\n",
    "$$ softmax(x)_i = \\frac{exp(x_i)}{\\sum_{j}^{ }exp(x_j))}  $$\n",
    "\n",
    "Производная имеет следующий вид:\n",
    "\n",
    "$$ softmax(x)' = softmax(x) (1 - softmax(x))$$\n",
    "\n",
    "Риторический вопрос 2: что используется при прямом распространении сигнала, а что при обратном распространении ошибок?\n",
    "\n",
    "Реализуйте свой класс Softmax и ее производной."
   ]
  },
  {
   "cell_type": "code",
   "execution_count": 4,
   "metadata": {},
   "outputs": [],
   "source": [
    "class Softmax():\n",
    "    @staticmethod\n",
    "    def evaluate(x):\n",
    "        exp = np.exp(x - np.max(x))\n",
    "        return exp / np.sum(exp, axis=-1, keepdims=True)\n",
    "\n",
    "    @staticmethod\n",
    "    def gradient(x):\n",
    "        frwd = Softmax.evaluate(x)\n",
    "        return frwd * (1 - frwd)"
   ]
  },
  {
   "cell_type": "markdown",
   "metadata": {},
   "source": [
    "# 1.4 Предварительные шаги\n",
    "\n",
    "Для реализации нейронной сети необходимо задать общую функциональность слоев и определить класс для активации.\n",
    "\n",
    "1. В классе Layer реализуем метод, который задает размерность, которую слой ожидает на входе при прямом методе.\n",
    "2. В классе Activation реализуем функционал применения слоем операции активации на входе. Параметр name% string - имя функции активации, которая будет использоваться.\n",
    "\n",
    "Вам необходимо реализовать метод прямого и обратного прохождения в классе Activation.\n"
   ]
  },
  {
   "cell_type": "code",
   "execution_count": 5,
   "metadata": {},
   "outputs": [],
   "source": [
    "class Layer():\n",
    "    def set_input_shape(self, shape):\n",
    "        self.input_shape = shape\n",
    "\n",
    "\n",
    "class Activation(Layer):\n",
    "\n",
    "    def __init__(self, name):\n",
    "        self.activation_name = name\n",
    "        \n",
    "        #\n",
    "        # Тут немного пошаманить пришлось, чтобы соответствовать интерфейсу активаций\n",
    "        #\n",
    "        \n",
    "        self.activation_func = activation_functions[name]\n",
    "        self.trainable = True\n",
    "\n",
    "    def forward_pass(self, X, training=True):\n",
    "        self.layer_input = X\n",
    "        return self.activation_func.evaluate(X)\n",
    "\n",
    "    def backward_pass(self, accum_grad):\n",
    "        return accum_grad * self.activation_func.gradient(self.layer_input)\n",
    "\n",
    "    def output_shape(self):\n",
    "        return self.input_shape\n",
    "\n",
    "activation_functions = {\n",
    "    'sigmoid': Sigmoid,\n",
    "    'softmax': Softmax\n",
    "}"
   ]
  },
  {
   "cell_type": "markdown",
   "metadata": {},
   "source": [
    "Теперь надо реализовать класс для реализации линейных преобразований внутри слоя нейронной сети.\n",
    "Для этого используем линейную регрессию. Реализуйте градиентный спуск для нее.\n",
    "Модель линейной регрессии задаётся формулой: $$\\vec{y}=X\\vec{w}+\\mathbb{C}$$"
   ]
  },
  {
   "cell_type": "code",
   "execution_count": 6,
   "metadata": {},
   "outputs": [],
   "source": [
    "class Dense(Layer):\n",
    "#     Полностью подключенный слой нейронной сети.\n",
    "#     Параметры:\n",
    "#     -----------\n",
    "#     n_units: int\n",
    "#      Число нейронов в слое.\n",
    "#     input_shape: tuple\n",
    "#      Ожидаемая размерность входа на слой. Для плотных слоев одна цифра характеризует число \n",
    "#      признаков на входе. \n",
    "#      Должен быть задан, если слой является первый в нейронной сети\n",
    "\n",
    "    def __init__(self, n_units, input_shape=None):\n",
    "        self.layer_input = None\n",
    "        self.input_shape = input_shape\n",
    "        self.n_units = n_units\n",
    "        self.trainable = True\n",
    "        \n",
    "        # Weights and optimizers (cannot set them for now)\n",
    "        self.W = None\n",
    "        self.W_optimizer = None\n",
    "        \n",
    "        self.w0 = None\n",
    "        self.w0_optimizer = None\n",
    "\n",
    "    def initialize(self, optimizer):\n",
    "        #\n",
    "        # Инициализация весов\n",
    "        #\n",
    "        \n",
    "        limit = 1 / math.sqrt(self.input_shape[0])\n",
    "        self.W  = np.random.uniform(-limit, limit, (self.input_shape[0], self.n_units))\n",
    "        self.w0 = np.zeros((1, self.n_units))\n",
    "        \n",
    "        #\n",
    "        # А теперь сами оптимизаторы\n",
    "        #\n",
    "        \n",
    "        self.W_optimizer  = copy.copy(optimizer)\n",
    "        self.w0_optimizer = copy.copy(optimizer)\n",
    "\n",
    "    def forward_pass(self, X, training=True):\n",
    "        self.layer_input = X\n",
    "        return X.dot(self.W) + self.w0\n",
    "\n",
    "    def backward_pass(self, accum_grad):\n",
    "        #\n",
    "        # Веса нам еще понадобятся\n",
    "        #\n",
    "        \n",
    "        W = self.W\n",
    "\n",
    "        if self.trainable:\n",
    "            W_grad  = self.layer_input.T.dot(accum_grad)\n",
    "            w0_grad = np.sum(accum_grad, axis=0, keepdims=True)\n",
    "            self.W  = self.W_optimizer.update(self.W, W_grad)\n",
    "            self.w0 = self.w0_optimizer.update(self.w0, w0_grad)\n",
    "\n",
    "        # \n",
    "        # Отдам обратно значение градиента \n",
    "        #\n",
    "        \n",
    "        return accum_grad.dot(W.T)\n",
    "\n",
    "    def output_shape(self):\n",
    "        return (self.n_units, )"
   ]
  },
  {
   "cell_type": "markdown",
   "metadata": {},
   "source": [
    "## Задание\n",
    "Объясните код в следующей ячейке. Зачем используется batch?"
   ]
  },
  {
   "cell_type": "code",
   "execution_count": 7,
   "metadata": {},
   "outputs": [],
   "source": [
    "def batch_iterator(X, y=None, batch_size=64):\n",
    "    n_samples = X.shape[0]\n",
    "    for i in np.arange(0, n_samples, batch_size):\n",
    "        begin, end = i, min(i + batch_size, n_samples)\n",
    "        if y is not None:\n",
    "            yield X[begin:end], y[begin:end]\n",
    "        else:\n",
    "            yield X[begin:end]"
   ]
  },
  {
   "cell_type": "markdown",
   "metadata": {},
   "source": [
    "Честно говоря, неясно, что тут требуется объяснять... Функция-генератор принимает на вход данные и отдает их кусочками -- батчами по несколько записей (по умолчанию 64).\n",
    "\n",
    "Батчи существенно ускоряют обучение сети, так как уменьшают количество вычислений градиента методом обратного распространения ошибки."
   ]
  },
  {
   "cell_type": "markdown",
   "metadata": {},
   "source": [
    "# 1.5 Построение нейронной сети\n",
    "\n",
    "Реализуйте класс  NeuralNetwork ().\n",
    "\n",
    "Параметры:\n",
    "\n",
    "1. optimizer: class - оптимизатор весов, который будет использоваться для модификации весов, чтобы минимизировать ошибку.\n",
    "\n",
    "2. loss: class - функция потерь, используемая для измерения производительности модели. Используйте функцию `Cross-Entropy`:\n",
    "$$L = (y,p) = -y \\log{p} - (1-y)\\log{(1-p)}$$\n",
    "\n",
    "Ее производная по `p`:\n",
    "$$\\frac{\\partial L}{\\partial p} = \\frac{(p - y)}{p(1-p)}$$\n",
    "       \n",
    "3. validation: tuple - кортеж, содержащий валидирующие данные и метки (X, y)\n",
    "\n"
   ]
  },
  {
   "cell_type": "markdown",
   "metadata": {},
   "source": [
    "## Реализация CrossEntropy для использования далее \n",
    "объясните код"
   ]
  },
  {
   "cell_type": "code",
   "execution_count": 8,
   "metadata": {},
   "outputs": [],
   "source": [
    "class CrossEntropy():\n",
    "    def __init__(self): pass\n",
    "\n",
    "    def loss(self, y, p):\n",
    "        p = np.clip(p, 1e-15, 1 - 1e-15)\n",
    "        return - y * np.log(p) - (1 - y) * np.log(1 - p)\n",
    "\n",
    "    def acc(self, y, p):\n",
    "        return accuracy_score(np.argmax(y, axis=1), np.argmax(p, axis=1))\n",
    "\n",
    "    def gradient(self, y, p):\n",
    "        p = np.clip(p, 1e-15, 1 - 1e-15)\n",
    "        return (p - y) / (p * (1 - p))"
   ]
  },
  {
   "cell_type": "markdown",
   "metadata": {},
   "source": [
    "Тут еще более неясно, что надо объяснить. Есть такая замечательная функция как бинарная кросс-энтропия. Класс представляет ее реализацию.\n",
    "\n",
    "Надо отметить, что она не переваривает 0 и 1 в качестве аргументов (логарифмы плохо дружат с нулем в качестве аргумента), поэтому в коде происходит \"обрезание\" переданного аргумента до значений в пределах $[\\epsilon, 1 - \\epsilon]$, где $\\epsilon = 10 ^ {-15}$. Остальное в принципе достаточно очевидный код, написанный аккурат по описанию выше..."
   ]
  },
  {
   "cell_type": "markdown",
   "metadata": {},
   "source": [
    "## Задание:\n",
    "1. Реализовать метод, который замораживает веса на слое сети (def self_trainable(self, trainable))\n",
    "2. Реализовать метод, добавляющий слой к нейронной сети (def add(self, layer))\n",
    "3. Реализовать метод для оценки модели на одном batch образцов (def test_on_batch(self, X, y))\n",
    "4. Реализовать метод для обучения на одном batch образцов (def train_on_batch(self, X, y))\n",
    "5. Реализовать метод обучения модели на фиксированном количестве итераций (def fit(self, X, y, n_epochs, batch_size)) и вывод шкалы, характеризующей прогресс обучения\n",
    "6. Реализовать метод прямого прохождения для расчета выхода нейронной сети (def _forward_pass(self, X, training=True))\n",
    "7. Реализуйте метод обратного прохождения градиента и обновления весов на каждом из слоев (def _backward_pass(self, loss_grad))\n",
    "8. Реализуйте метод классификации метки X (def predict(self, X))"
   ]
  },
  {
   "cell_type": "code",
   "execution_count": 9,
   "metadata": {},
   "outputs": [],
   "source": [
    "class NeuralNetwork():\n",
    "    # не менять код\n",
    "    def __init__(self, optimizer, loss, validation_data=None):\n",
    "        self.optimizer = optimizer\n",
    "        self.layers = []\n",
    "        self.errors = {'training': [], 'validation': []}\n",
    "        self.loss_function = loss()\n",
    "        \n",
    "        # Буду tqdm использовать вместо этого\n",
    "        #self.progressbar = progressbar.ProgressBar()\n",
    "\n",
    "        self.val_set = None\n",
    "        if validation_data:\n",
    "            X, y = validation_data\n",
    "            self.val_set = {\"X\": X, \"y\": y}\n",
    "\n",
    "    def set_trainable(self, trainable):\n",
    "        for layer in self.layers:\n",
    "            layer.trainable = trainable\n",
    "\n",
    "    def add(self, layer):\n",
    "        # \n",
    "        # Если это не первый слой добавленный слой, надо установить размерность на входе\n",
    "        # размерности на выходе последнего добавленного слоя\n",
    "        #\n",
    "        \n",
    "        if len(self.layers) > 0:\n",
    "            layer.set_input_shape(shape=self.layers[-1].output_shape())\n",
    "        \n",
    "        if hasattr(layer, 'initialize'):\n",
    "            #\n",
    "            # Слои активации не нужно инициализировать, хотя можно было бы \n",
    "            # просто пустую инциализацию в них сделать\n",
    "            #\n",
    "            \n",
    "            layer.initialize(optimizer=self.optimizer)\n",
    "            \n",
    "        self.layers.append(layer)\n",
    "\n",
    "    def fit(self, X, y, n_epochs, batch_size):\n",
    "        for i in tqdm.tqdm(range(n_epochs)):\n",
    "            #\n",
    "            # Тут в целом то все предельно просто -- учимся батчами и сохраняем ошибки в историю\n",
    "            #\n",
    "            \n",
    "            errors = []\n",
    "            \n",
    "            for X_batch, y_batch in batch_iterator(X, y, batch_size=batch_size):\n",
    "                loss, _ = self._train_on_batch(X_batch, y_batch)\n",
    "                errors.append(loss)\n",
    "                \n",
    "            self.errors['training'].append(np.mean(errors))\n",
    "            \n",
    "            if self.val_set is not None:\n",
    "                val_loss, _ = self._test_on_batch(self.val_set['X'], self.val_set['y'])\n",
    "                self.errors['validation'].append(val_loss)\n",
    "                \n",
    "        return self.errors\n",
    "\n",
    "\n",
    "    def _forward_pass(self, X, training=True):\n",
    "        output = X\n",
    "        \n",
    "        for layer in self.layers:\n",
    "            output = layer.forward_pass(output, training)\n",
    "            \n",
    "        return output\n",
    "\n",
    "    def _backward_pass(self, loss_grad):\n",
    "        for layer in self.layers[::-1]:\n",
    "            loss_grad = layer.backward_pass(loss_grad)\n",
    "\n",
    "    def _test_on_batch(self, X, y):\n",
    "        y_predicted = self._forward_pass(X, training=False)\n",
    "        accuracy = self.loss_function.acc(y, y_predicted)\n",
    "        \n",
    "        loss = np.mean(self.loss_function.loss(y, y_predicted))\n",
    "        \n",
    "        return loss, accuracy\n",
    "\n",
    "    def _train_on_batch(self, X, y):\n",
    "        y_predicted = self._forward_pass(X)\n",
    "        accuracy = self.loss_function.acc(y, y_predicted)\n",
    "        \n",
    "        loss = np.mean(self.loss_function.loss(y, y_predicted))\n",
    "        loss_grad = self.loss_function.gradient(y, y_predicted)\n",
    "        \n",
    "        self._backward_pass(loss_grad=loss_grad)\n",
    "        \n",
    "        return loss, accuracy\n",
    "\n",
    "    def predict(self, X):\n",
    "        return self._forward_pass(X, training=False)"
   ]
  },
  {
   "cell_type": "markdown",
   "metadata": {},
   "source": [
    "# 1.6 Проверка реализации нейронной сети\n",
    "\n",
    "Для проверки работы нейронной сети сгенерируем датасет.\n",
    "\n",
    "Объясните работу кода в следующей ячейке. Что будет содержать датасет?"
   ]
  },
  {
   "cell_type": "code",
   "execution_count": 10,
   "metadata": {},
   "outputs": [
    {
     "data": {
      "text/plain": [
       "<Figure size 640x480 with 0 Axes>"
      ]
     },
     "metadata": {},
     "output_type": "display_data"
    },
    {
     "data": {
      "image/png": "[encoded data removed]",
      "text/plain": [
       "<Figure size 480x480 with 1 Axes>"
      ]
     },
     "metadata": {},
     "output_type": "display_data"
    },
    {
     "name": "stdout",
     "output_type": "stream",
     "text": [
      "Class: 1\n"
     ]
    }
   ],
   "source": [
    "# Генерируем датасет\n",
    "data = datasets.load_digits()\n",
    "\n",
    "plt.gray()\n",
    "sample_n = 1000\n",
    "plt.matshow(data.images[sample_n]) \n",
    "plt.show()\n",
    "print(\"Class:\", data.target[sample_n])"
   ]
  },
  {
   "cell_type": "markdown",
   "metadata": {},
   "source": [
    "## Задание\n",
    "1. Подготовьте входные данные\n",
    "2. Преобразуйте номер класса в бинарное представление \n",
    "3. Нормализуйте данные для признаков \n",
    "4. Разбейте датасет на обучающую и тестовую выборки."
   ]
  },
  {
   "cell_type": "code",
   "execution_count": 11,
   "metadata": {},
   "outputs": [],
   "source": [
    "from sklearn.pipeline import Pipeline\n",
    "from sklearn.preprocessing import (OneHotEncoder, \n",
    "                                   StandardScaler,)"
   ]
  },
  {
   "cell_type": "code",
   "execution_count": 12,
   "metadata": {},
   "outputs": [],
   "source": [
    "data = datasets.load_digits()\n",
    "X = data.data\n",
    "y = data.target"
   ]
  },
  {
   "cell_type": "code",
   "execution_count": 13,
   "metadata": {},
   "outputs": [],
   "source": [
    "X_transformer = Pipeline([\n",
    "    ('z-score', StandardScaler())\n",
    "])\n",
    "\n",
    "y_transformer = Pipeline([\n",
    "    ('one-hot', OneHotEncoder())\n",
    "])"
   ]
  },
  {
   "cell_type": "code",
   "execution_count": 14,
   "metadata": {},
   "outputs": [],
   "source": [
    "X = X_transformer.fit_transform(X)"
   ]
  },
  {
   "cell_type": "code",
   "execution_count": 15,
   "metadata": {},
   "outputs": [],
   "source": [
    "y = y_transformer \\\n",
    "    .fit_transform(y.reshape(-1, 1)) \\\n",
    "    .toarray()"
   ]
  },
  {
   "cell_type": "code",
   "execution_count": 16,
   "metadata": {},
   "outputs": [],
   "source": [
    "X_train, X_test, y_train, y_test = train_test_split(X, y, test_size=0.25)"
   ]
  },
  {
   "cell_type": "markdown",
   "metadata": {},
   "source": [
    "# 1.7 Работа с данными\n",
    "\n",
    "## Задание\n",
    "\n",
    "1. Обучите вашу нейронную сеть на данных \n",
    "2. Вывести графики функций ошибок при обучении и валидации"
   ]
  },
  {
   "cell_type": "code",
   "execution_count": 17,
   "metadata": {},
   "outputs": [],
   "source": [
    "X_train, X_val, y_train, y_val = train_test_split(X_train, y_train, test_size=0.1)"
   ]
  },
  {
   "cell_type": "code",
   "execution_count": 18,
   "metadata": {},
   "outputs": [
    {
     "name": "stderr",
     "output_type": "stream",
     "text": [
      "100%|████████████████████████████████████████████████████████████████████████████████████████████████████████████████████████████████████████████████████████████████| 120/120 [00:01<00:00, 105.80it/s]\n"
     ]
    }
   ],
   "source": [
    "network = NeuralNetwork(optimizer=SGD(lr=0.01), loss=CrossEntropy, validation_data=(X_val, y_val))\n",
    "\n",
    "network.add(Dense(64, input_shape=(X.shape[1],)))\n",
    "network.add(Activation('sigmoid'))\n",
    "\n",
    "network.add(Dense(y.shape[1]))\n",
    "network.add(Activation('softmax'))\n",
    "\n",
    "history = network.fit(X_train, y_train, n_epochs=120, batch_size=128)"
   ]
  },
  {
   "cell_type": "code",
   "execution_count": 19,
   "metadata": {},
   "outputs": [],
   "source": [
    "train_error = history['training']\n",
    "val_error = history['validation']"
   ]
  },
  {
   "cell_type": "code",
   "execution_count": 20,
   "metadata": {},
   "outputs": [
    {
     "data": {
      "image/png": "[encoded data removed]",
      "text/plain": [
       "<Figure size 640x480 with 1 Axes>"
      ]
     },
     "metadata": {},
     "output_type": "display_data"
    }
   ],
   "source": [
    "plt.plot(train_error, label=\"Train error\")\n",
    "plt.plot(val_error, label=\"Validation error\")\n",
    "\n",
    "plt.ylabel('Error')\n",
    "plt.xlabel('Epoch')\n",
    "\n",
    "plt.legend()\n",
    "plt.grid()"
   ]
  },
  {
   "cell_type": "code",
   "execution_count": null,
   "metadata": {},
   "outputs": [],
   "source": []
  }
 ],
 "metadata": {
  "kernelspec": {
   "display_name": "Python 3 (ipykernel)",
   "language": "python",
   "name": "python3"
  },
  "language_info": {
   "codemirror_mode": {
    "name": "ipython",
    "version": 3
   },
   "file_extension": ".py",
   "mimetype": "text/x-python",
   "name": "python",
   "nbconvert_exporter": "python",
   "pygments_lexer": "ipython3",
   "version": "3.10.8"
  }
 },
 "nbformat": 4,
 "nbformat_minor": 2
}
